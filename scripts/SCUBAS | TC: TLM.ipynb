{
 "cells": [
  {
   "cell_type": "markdown",
   "id": "a33ff76f",
   "metadata": {},
   "source": [
    "### Transmission Line Modeling\n",
    "---\n",
    "* __author__ = Chakraborty, S.\n",
    "* __license__ = GPL3\n",
    "* __email__ = shibaji7@vt.edu\n",
    "* __status__ = Research\n",
    "\n",
    "> For geomagnetic induction studies, the Ocean/Earth conductivity structure consisting of surface conducting layers (seawater and sediments) over more resistive layers (crust and mantle lithosphere) can be represented as a thin double layer (with the conductive layer on top and the resistive one underneath). Ranganayaki and Madden (1980) developed a generalised thin sheet analysis for this structure that is appropriate for frequencies that penetrate through both the conductive and resistive layers.  Wang et al (2023) have shown that this generalised thin sheet analysis can be accomplished by representing the double layer as a transmission line with series impedance, Z, given by the resistivity and thickness of the conductive layers and parallel impedance, Y given by the resistance through the resistive layers as shown in Figure below. ![Alt text](figures/Thinsheet-Model.png)"
   ]
  },
  {
   "cell_type": "markdown",
   "id": "d7321963",
   "metadata": {},
   "source": [
    "> From theory we understand voltage $V(x)$ and current $I(x)$ along the cable are:\n",
    "\n",
    ">$$\n",
    "V(x)=\\frac{V_ke^{\\gamma L}-V_i}{e^{\\gamma L}-e^{-\\gamma L}}e^{-\\gamma (L-x)}+\\frac{V_ie^{\\gamma L}-V_k}{e^{\\gamma L}-e^{-\\gamma L}}e^{-\\gamma x}\\\\\n",
    "I(x)=-\\frac{1}{Z_0}\\frac{V_ke^{\\gamma L}-V_i}{e^{\\gamma L}-e^{-\\gamma L}}e^{-\\gamma (L-x)}+\\frac{1}{Z_0}\\frac{V_ie^{\\gamma L}-V_k}{e^{\\gamma L}-e^{-\\gamma L}}e^{-\\gamma x}+\\frac{E}{\\gamma Z_0}\n",
    "$$\n",
    "where, $\\gamma=\\sqrt{ZY}$ $Z_0=\\sqrt{\\frac{Z}{Y}}$. Also, $L$, and $x$ are the length of cable and any random point on the cable."
   ]
  },
  {
   "cell_type": "markdown",
   "id": "17bf72c3",
   "metadata": {},
   "source": [
    "##### Equivalent-$\\pi$ Circuit\n",
    "> To combine multiple transmission line sections, it is useful to convert each section into  equivalent-$\\pi$ circuits (Boteler, 2013) as shown in following figure ![Alt text](figures/Thinsheet-Model.png)."
   ]
  }
 ],
 "metadata": {
  "kernelspec": {
   "display_name": "cable",
   "language": "python",
   "name": "cable"
  },
  "language_info": {
   "codemirror_mode": {
    "name": "ipython",
    "version": 3
   },
   "file_extension": ".py",
   "mimetype": "text/x-python",
   "name": "python",
   "nbconvert_exporter": "python",
   "pygments_lexer": "ipython3",
   "version": "3.7.12"
  }
 },
 "nbformat": 4,
 "nbformat_minor": 5
}
